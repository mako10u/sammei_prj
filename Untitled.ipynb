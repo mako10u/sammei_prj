{
 "cells": [
  {
   "cell_type": "code",
   "execution_count": 57,
   "metadata": {},
   "outputs": [
    {
     "name": "stdout",
     "output_type": "stream",
     "text": [
      "354\n",
      "1800-12-21 00:00:00\n",
      "日干支 21\n",
      "月干支 24\n",
      "年干支 56\n"
     ]
    }
   ],
   "source": [
    "from datetime import datetime\n",
    "now = datetime.now()\n",
    "\n",
    "culc_y = 1800\n",
    "culc_m = 12\n",
    "culc_d = 21\n",
    "\n",
    "std_y = 1800\n",
    "std_m = 1\n",
    "std_d =1\n",
    "\n",
    "mydate01 = datetime(culc_y, culc_m, culc_d)\n",
    "stddate = datetime(std_y, std_m, std_d)\n",
    "\n",
    "# 基準日と計算対象日の年月日をそれぞれ引数として保存する\n",
    "# 月は節入日の前日までは「前月」\n",
    "# 年は立春（２月の節）までは「前年」\n",
    "# つまり ２４節計算が必須！\n",
    "\n",
    "#stdday = 51 #基準日の日干支\n",
    "#stdmonth = 37 #基準日の月干支\n",
    "#stdyear = 43 #基準日の年干支\n",
    "\n",
    "stdday = 27 #基準日の日干支\n",
    "stdmonth = 13 #基準日の月干支\n",
    "stdyear = 56 #基準日の年干支\n",
    "\n",
    "culcdate = mydate01\n",
    "#delta = now - culcdate\n",
    "delta = culcdate - stddate\n",
    "#print(delta.days)\n",
    "deltaxx = delta.days % 60\n",
    "deltax2 = (delta.days + stdday) % 60\n",
    "# 基準日を作ってそこからの日数差を計算して六十干支を見つける\n",
    "# 基準日はいつにする？  ＞＞ まずは西暦1000年1月1日 にしてみる?\n",
    "\n",
    "from monthdelta import monthmod  # エラー出たら pip install MonthDelta\n",
    "mmod = monthmod(now, mydate01)  # (monthdelta(20), datetime.timedelta(days=25))\n",
    "mmod1 = monthmod(stddate, culcdate)\n",
    "print(delta.days)\n",
    "print(culcdate)\n",
    "print('日干支',deltax2)\n",
    "#print(mmod1)\n",
    "deltamonth = mmod1[0].months\n",
    "#deltayear = deltamonth//12\n",
    "deltayear = culc_y - std_y\n",
    "culcmonth = (deltamonth + stdmonth) % 60\n",
    "culcyear = (deltayear + stdyear) % 60\n",
    "print('月干支',culcmonth)\n",
    "print('年干支',culcyear)"
   ]
  },
  {
   "cell_type": "code",
   "execution_count": 19,
   "metadata": {},
   "outputs": [
    {
     "name": "stdout",
     "output_type": "stream",
     "text": [
      "19725\n",
      "45\n",
      "日干支 36\n",
      "月干支 24\n",
      "年干支 36\n"
     ]
    }
   ],
   "source": []
  },
  {
   "cell_type": "code",
   "execution_count": null,
   "metadata": {},
   "outputs": [],
   "source": []
  }
 ],
 "metadata": {
  "kernelspec": {
   "display_name": "Python 3",
   "language": "python",
   "name": "python3"
  },
  "language_info": {
   "codemirror_mode": {
    "name": "ipython",
    "version": 3
   },
   "file_extension": ".py",
   "mimetype": "text/x-python",
   "name": "python",
   "nbconvert_exporter": "python",
   "pygments_lexer": "ipython3",
   "version": "3.8.5"
  }
 },
 "nbformat": 4,
 "nbformat_minor": 2
}

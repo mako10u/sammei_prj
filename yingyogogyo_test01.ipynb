from datetime import datetime
now = datetime.now()

culc_y = 1800
culc_m = 12
culc_d = 21

std_y = 1800
std_m = 1
std_d =1

mydate01 = datetime(culc_y, culc_m, culc_d)
stddate = datetime(std_y, std_m, std_d)

# 基準日と計算対象日の年月日をそれぞれ引数として保存する
# 月は節入日の前日までは「前月」
# 年は立春（２月の節）までは「前年」
# つまり ２４節計算が必須！

#stdday = 51 #基準日の日干支
#stdmonth = 37 #基準日の月干支
#stdyear = 43 #基準日の年干支

stdday = 27 #基準日の日干支
stdmonth = 13 #基準日の月干支
stdyear = 56 #基準日の年干支

culcdate = mydate01
#delta = now - culcdate
delta = culcdate - stddate
#print(delta.days)
deltaxx = delta.days % 60
deltax2 = (delta.days + stdday) % 60
# 基準日を作ってそこからの日数差を計算して六十干支を見つける
# 基準日はいつにする？  ＞＞ まずは西暦1000年1月1日 にしてみる?

from monthdelta import monthmod  # エラー出たら pip install MonthDelta
mmod = monthmod(now, mydate01)  # (monthdelta(20), datetime.timedelta(days=25))
mmod1 = monthmod(stddate, culcdate)
print(delta.days)
print(culcdate)
print('日干支',deltax2)
#print(mmod1)
deltamonth = mmod1[0].months
#deltayear = deltamonth//12
deltayear = culc_y - std_y
culcmonth = (deltamonth + stdmonth) % 60
culcyear = (deltayear + stdyear) % 60
print('月干支',culcmonth)
print('年干支',culcyear)